{
 "cells": [
  {
   "cell_type": "code",
   "execution_count": 6,
   "id": "bc3f7c47-95dd-4ce4-974e-43a702cdd6cb",
   "metadata": {},
   "outputs": [],
   "source": [
    "grade = 99"
   ]
  },
  {
   "cell_type": "code",
   "execution_count": 7,
   "id": "06632ec1-d6eb-4a36-900d-65a8b7f1f59b",
   "metadata": {},
   "outputs": [
    {
     "name": "stdout",
     "output_type": "stream",
     "text": [
      "Passed\n"
     ]
    }
   ],
   "source": [
    "if grade >= 60:\n",
    "    print ('Passed')\n",
    "else:\n",
    "    print ('Failed')"
   ]
  },
  {
   "cell_type": "markdown",
   "id": "616f197d-d90c-422e-93d6-d6cd9730a8b1",
   "metadata": {},
   "source": [
    " Pseudocode: If student’s grade is greater than or equal to 60\n",
    "        Display 'Passed'\n",
    "Else\n",
    "        Display 'Failed'"
   ]
  },
  {
   "cell_type": "code",
   "execution_count": 8,
   "id": "51a761b7-4f60-45b2-b252-5d21a4ef2420",
   "metadata": {},
   "outputs": [],
   "source": [
    "grade = 87"
   ]
  },
  {
   "cell_type": "code",
   "execution_count": 9,
   "id": "3ba2da2c-3f36-42c3-beb6-ca8658ad3b17",
   "metadata": {},
   "outputs": [],
   "source": [
    "if grade >= 60:\n",
    "    result = 'Passed'\n",
    "else:\n",
    "    result = 'Failed'"
   ]
  },
  {
   "cell_type": "code",
   "execution_count": null,
   "id": "6ae0b23d-5698-4caf-b620-d4607623f4d0",
   "metadata": {},
   "outputs": [],
   "source": []
  },
  {
   "cell_type": "raw",
   "id": "019f65e6-95ff-40b1-a06e-e16bbf3b9d20",
   "metadata": {},
   "source": [
    "result"
   ]
  },
  {
   "cell_type": "markdown",
   "id": "23393bb1-179b-4497-aa52-ce6c5e737747",
   "metadata": {},
   "source": [
    "You can write statements like snippet [8] using a concise conditional expression:"
   ]
  },
  {
   "cell_type": "code",
   "execution_count": null,
   "id": "f52d7ba3-5f1f-42c5-8f19-505516e007ff",
   "metadata": {},
   "outputs": [],
   "source": [
    "grade = 87"
   ]
  },
  {
   "cell_type": "code",
   "execution_count": 13,
   "id": "2e6458b5-9b38-4191-bbd0-a98dcd8bca83",
   "metadata": {},
   "outputs": [],
   "source": [
    "result = ('Passed' if grade >= 60 else 'Failed')"
   ]
  },
  {
   "cell_type": "code",
   "execution_count": 14,
   "id": "a36dd3bf-79ee-48b5-8e93-adb236f1d281",
   "metadata": {},
   "outputs": [
    {
     "data": {
      "text/plain": [
       "'Passed'"
      ]
     },
     "execution_count": 14,
     "metadata": {},
     "output_type": "execute_result"
    }
   ],
   "source": [
    "result"
   ]
  },
  {
   "cell_type": "markdown",
   "id": "e3c5d73d-858b-4cdf-ad06-2fd2b635f942",
   "metadata": {},
   "source": [
    "Multiple Statements in a Suite"
   ]
  },
  {
   "cell_type": "code",
   "execution_count": 15,
   "id": "390559c6-35b9-4fef-8abb-040eef802cfc",
   "metadata": {},
   "outputs": [],
   "source": [
    "grade = 49"
   ]
  },
  {
   "cell_type": "code",
   "execution_count": 16,
   "id": "0a4fa8ca-a034-4944-8f14-dafd033b3b5d",
   "metadata": {},
   "outputs": [
    {
     "name": "stdout",
     "output_type": "stream",
     "text": [
      "Failed\n",
      "You must take this course again\n"
     ]
    }
   ],
   "source": [
    "if grade >= 60:\n",
    "    print ('Passed')\n",
    "else:\n",
    "    print ('Failed')\n",
    "    print ('You must take this course again')"
   ]
  },
  {
   "cell_type": "markdown",
   "id": "f270c258-7600-419b-be52-b72bab6b9135",
   "metadata": {},
   "source": [
    "if…elif…else Statement"
   ]
  },
  {
   "cell_type": "code",
   "execution_count": 17,
   "id": "e3397b47-89eb-4c40-99e8-fdac2497735c",
   "metadata": {},
   "outputs": [],
   "source": [
    "grade = 77"
   ]
  },
  {
   "cell_type": "code",
   "execution_count": 18,
   "id": "95d46a05-a0e5-4d4f-9572-ee4d828dbfb0",
   "metadata": {},
   "outputs": [
    {
     "name": "stdout",
     "output_type": "stream",
     "text": [
      "C\n"
     ]
    }
   ],
   "source": [
    "if grade >= 90:\n",
    "    print ('A')\n",
    "elif grade >=80:\n",
    "    print ('B')\n",
    "elif grade >= 70:\n",
    "    print ('C')\n",
    "elif grade >= 60:\n",
    "    print ('D')\n",
    "else:\n",
    "    print ('F')"
   ]
  },
  {
   "cell_type": "markdown",
   "id": "07af8197-1efb-463e-a999-fe65fa45d831",
   "metadata": {},
   "source": [
    "While Statements"
   ]
  },
  {
   "cell_type": "code",
   "execution_count": 19,
   "id": "b3d174bc-a988-425c-a213-1053f740c289",
   "metadata": {},
   "outputs": [],
   "source": [
    "product = 3"
   ]
  },
  {
   "cell_type": "code",
   "execution_count": 20,
   "id": "575a833f-9f6a-4eb0-b612-8b6662e1e208",
   "metadata": {},
   "outputs": [],
   "source": [
    "while product <= 50:\n",
    "    product = product * 3"
   ]
  },
  {
   "cell_type": "code",
   "execution_count": 21,
   "id": "e0973946-2a32-4f80-ba8f-b7f72f1544aa",
   "metadata": {},
   "outputs": [
    {
     "data": {
      "text/plain": [
       "81"
      ]
     },
     "execution_count": 21,
     "metadata": {},
     "output_type": "execute_result"
    }
   ],
   "source": [
    "product"
   ]
  },
  {
   "cell_type": "markdown",
   "id": "b1409665-6146-4fff-b91f-293d88523820",
   "metadata": {},
   "source": [
    "Something in the while statement’s suite must change product’s value, so the condition eventually becomes False. Otherwise, a logic error called an infinite loop occurs. "
   ]
  },
  {
   "cell_type": "code",
   "execution_count": 22,
   "id": "1eeab7db-93f2-49d0-8f4b-32eec8359241",
   "metadata": {},
   "outputs": [],
   "source": [
    "product = 7"
   ]
  },
  {
   "cell_type": "code",
   "execution_count": 23,
   "id": "d0b04d3c-fa0f-4d84-bad0-e22435c10271",
   "metadata": {},
   "outputs": [],
   "source": [
    "while product <= 1000:\n",
    "    product = product * 7"
   ]
  },
  {
   "cell_type": "code",
   "execution_count": 24,
   "id": "aefb57ea-6698-4c00-a9f4-61950a57ad4c",
   "metadata": {},
   "outputs": [
    {
     "data": {
      "text/plain": [
       "2401"
      ]
     },
     "execution_count": 24,
     "metadata": {},
     "output_type": "execute_result"
    }
   ],
   "source": [
    "product"
   ]
  },
  {
   "cell_type": "markdown",
   "id": "0a5e5ed1-c326-4e36-8451-e97edfcc4d48",
   "metadata": {},
   "source": [
    "for Statement"
   ]
  },
  {
   "cell_type": "markdown",
   "id": "c1d3bc79-865e-41c9-b3da-8075c9d57ba4",
   "metadata": {},
   "source": [
    "Function print’s end Keyword Argument"
   ]
  },
  {
   "cell_type": "code",
   "execution_count": 25,
   "id": "62d4057c-12db-4e3f-83b8-1e08e25a9376",
   "metadata": {},
   "outputs": [
    {
     "name": "stdout",
     "output_type": "stream",
     "text": [
      "P  r  o  g  r  a  m  m  i  n  g  "
     ]
    }
   ],
   "source": [
    "for character in 'Programming':\n",
    "    print (character, end='  ')"
   ]
  },
  {
   "cell_type": "markdown",
   "id": "e4f27074-6928-49e4-969c-97187d7d2c91",
   "metadata": {},
   "source": [
    "Function print’s sep Keyword Argument"
   ]
  },
  {
   "cell_type": "code",
   "execution_count": 26,
   "id": "ec42071d-8f96-4929-82a1-4cad7c0cb1d1",
   "metadata": {},
   "outputs": [
    {
     "name": "stdout",
     "output_type": "stream",
     "text": [
      "10, 20, 30\n"
     ]
    }
   ],
   "source": [
    "print(10, 20, 30, sep=', ')"
   ]
  },
  {
   "cell_type": "markdown",
   "id": "ca2e2173-65f4-407a-93a8-f2e77315ce9f",
   "metadata": {},
   "source": [
    "Iterables, Lists and Iterators"
   ]
  },
  {
   "cell_type": "code",
   "execution_count": 27,
   "id": "25fb93d8-1a61-4bba-b5ad-25004184a822",
   "metadata": {},
   "outputs": [],
   "source": [
    "total = 0"
   ]
  },
  {
   "cell_type": "code",
   "execution_count": 28,
   "id": "5ac9b662-2c6b-445c-a494-f32d397efc22",
   "metadata": {},
   "outputs": [],
   "source": [
    "for number in [2, -3, 0, 17, 9]:\n",
    "    total = total + number"
   ]
  },
  {
   "cell_type": "code",
   "execution_count": 29,
   "id": "4f051f41-d63b-46b8-9711-fee4f83ebc30",
   "metadata": {},
   "outputs": [
    {
     "data": {
      "text/plain": [
       "25"
      ]
     },
     "execution_count": 29,
     "metadata": {},
     "output_type": "execute_result"
    }
   ],
   "source": [
    "total"
   ]
  },
  {
   "cell_type": "markdown",
   "id": "3453e244-aa9a-48f9-b6d0-b7c3172bac90",
   "metadata": {},
   "source": [
    "Built-In range Function"
   ]
  },
  {
   "cell_type": "code",
   "execution_count": 30,
   "id": "a99b4b3e-2645-4cde-b3c0-f5f76cfb8e24",
   "metadata": {},
   "outputs": [
    {
     "name": "stdout",
     "output_type": "stream",
     "text": [
      "0 1 2 3 4 5 6 7 8 9 "
     ]
    }
   ],
   "source": [
    "for counter in range (10):\n",
    "    print (counter, end=' ')"
   ]
  },
  {
   "cell_type": "code",
   "execution_count": 35,
   "id": "704ec54c-73a8-4698-86ab-33b94271ad80",
   "metadata": {},
   "outputs": [],
   "source": [
    "total = 0"
   ]
  },
  {
   "cell_type": "code",
   "execution_count": 36,
   "id": "f712315c-9da9-4183-8730-ec6d3320937c",
   "metadata": {},
   "outputs": [],
   "source": [
    "for number in range (1000001):\n",
    "    total = total + number"
   ]
  },
  {
   "cell_type": "code",
   "execution_count": 37,
   "id": "367c1075-9669-431d-93a5-4c4a99407bf3",
   "metadata": {},
   "outputs": [
    {
     "data": {
      "text/plain": [
       "500000500000"
      ]
     },
     "execution_count": 37,
     "metadata": {},
     "output_type": "execute_result"
    }
   ],
   "source": [
    "total"
   ]
  },
  {
   "cell_type": "markdown",
   "id": "e9357cb5-ea63-4e31-b288-be06f568728b",
   "metadata": {},
   "source": [
    "Augmented Assignments"
   ]
  },
  {
   "cell_type": "code",
   "execution_count": 38,
   "id": "f63b8a04-1f20-4b1e-a45a-8ec1bb09d276",
   "metadata": {},
   "outputs": [],
   "source": [
    "total = 0"
   ]
  },
  {
   "cell_type": "code",
   "execution_count": 39,
   "id": "ede6b2f2-575d-4454-8d03-a2154bc4d790",
   "metadata": {},
   "outputs": [],
   "source": [
    "for number in [1, 2, 3, 4, 5]:\n",
    "    total += number"
   ]
  },
  {
   "cell_type": "code",
   "execution_count": 40,
   "id": "7166b479-e881-4995-84b7-5680fc69c8e5",
   "metadata": {},
   "outputs": [
    {
     "data": {
      "text/plain": [
       "15"
      ]
     },
     "execution_count": 40,
     "metadata": {},
     "output_type": "execute_result"
    }
   ],
   "source": [
    "total"
   ]
  },
  {
   "cell_type": "code",
   "execution_count": 46,
   "id": "54a0761a-ee6a-4cea-a506-1b4f8b48e06b",
   "metadata": {},
   "outputs": [],
   "source": [
    "x = 12"
   ]
  },
  {
   "cell_type": "code",
   "execution_count": 47,
   "id": "69edd806-dd57-48c4-9301-8878f5cb16af",
   "metadata": {},
   "outputs": [],
   "source": [
    "x **= 2"
   ]
  },
  {
   "cell_type": "code",
   "execution_count": 48,
   "id": "df241ce8-61ac-49a5-8e8c-29de77cb0d49",
   "metadata": {},
   "outputs": [
    {
     "data": {
      "text/plain": [
       "144"
      ]
     },
     "execution_count": 48,
     "metadata": {},
     "output_type": "execute_result"
    }
   ],
   "source": [
    "x"
   ]
  },
  {
   "cell_type": "markdown",
   "id": "65c14850-a7cb-48ba-a921-5ae08a632ec5",
   "metadata": {},
   "source": [
    "Program Development: Sequence-Controlled Repetition"
   ]
  },
  {
   "cell_type": "code",
   "execution_count": 52,
   "id": "879cda9b-d90a-4a39-b63d-a2354104d2de",
   "metadata": {},
   "outputs": [],
   "source": [
    "total = 0"
   ]
  },
  {
   "cell_type": "code",
   "execution_count": 53,
   "id": "deeef1a7-7333-4801-90cf-23d98f4ab462",
   "metadata": {},
   "outputs": [],
   "source": [
    "grade_counter = 0"
   ]
  },
  {
   "cell_type": "code",
   "execution_count": 54,
   "id": "0e0654b2-1dce-4ebd-834b-92058155a6aa",
   "metadata": {},
   "outputs": [],
   "source": [
    "grades = [98, 76, 71, 87, 83, 90, 57, 79, 82, 94]"
   ]
  },
  {
   "cell_type": "code",
   "execution_count": 55,
   "id": "e4be39a8-4e87-4e7d-a0a8-486968c269a3",
   "metadata": {},
   "outputs": [],
   "source": [
    "for grade in grades:\n",
    "    total += grade\n",
    "    grade_counter += 1"
   ]
  },
  {
   "cell_type": "code",
   "execution_count": 56,
   "id": "2a12db36-f7cf-4a25-9c14-0ccf32253158",
   "metadata": {},
   "outputs": [],
   "source": [
    "average = total/ grade_counter"
   ]
  },
  {
   "cell_type": "code",
   "execution_count": 57,
   "id": "8ef5f20d-0d84-43c1-9873-70e57a5b513a",
   "metadata": {},
   "outputs": [
    {
     "name": "stdout",
     "output_type": "stream",
     "text": [
      "Class average is 81.7\n"
     ]
    }
   ],
   "source": [
    "print (f'Class average is {average}')"
   ]
  },
  {
   "cell_type": "markdown",
   "id": "a400d8d8-7084-4333-b71f-09fe305470b5",
   "metadata": {},
   "source": [
    "The letter f before the string’s opening quote indicates it’s an f-string. You specify where to insert values by using placeholders delimited by curly braces ({ and })."
   ]
  },
  {
   "cell_type": "code",
   "execution_count": 60,
   "id": "6c09b402-2a94-46a0-9817-4d24ecdd7d67",
   "metadata": {},
   "outputs": [],
   "source": [
    "number1 = 7"
   ]
  },
  {
   "cell_type": "code",
   "execution_count": 61,
   "id": "52e21b66-6cc8-4d9a-a52e-5d26b56d7662",
   "metadata": {},
   "outputs": [],
   "source": [
    "number2 = 5"
   ]
  },
  {
   "cell_type": "code",
   "execution_count": 63,
   "id": "645defca-9a24-446e-9cfc-099733055f8a",
   "metadata": {},
   "outputs": [
    {
     "name": "stdout",
     "output_type": "stream",
     "text": [
      "7 times 5 is 35\n"
     ]
    }
   ],
   "source": [
    "print (f'{number1} times {number2} is {number1 * number2}')"
   ]
  },
  {
   "cell_type": "markdown",
   "id": "da0fe022-809d-4605-bba7-c15a6ea49027",
   "metadata": {},
   "source": [
    " Built-In Function range: A Deeper Look"
   ]
  },
  {
   "cell_type": "code",
   "execution_count": 64,
   "id": "0e8efc69-2270-438b-8d42-a10d9e9f164e",
   "metadata": {},
   "outputs": [
    {
     "name": "stdout",
     "output_type": "stream",
     "text": [
      "5 6 7 8 9 "
     ]
    }
   ],
   "source": [
    "for number in range(5, 10):\n",
    "    print(number, end=' ')"
   ]
  },
  {
   "cell_type": "code",
   "execution_count": 65,
   "id": "b6c2a39f-bfd7-47ef-bdb0-64969e69e897",
   "metadata": {},
   "outputs": [
    {
     "name": "stdout",
     "output_type": "stream",
     "text": [
      "0 2 4 6 8 "
     ]
    }
   ],
   "source": [
    "for number in range(0, 10, 2):\n",
    "    print(number, end=' ')"
   ]
  },
  {
   "cell_type": "code",
   "execution_count": 70,
   "id": "72316733-ce7c-4a82-9180-7031ab35311b",
   "metadata": {},
   "outputs": [
    {
     "name": "stdout",
     "output_type": "stream",
     "text": [
      "10 8 6 4 2 "
     ]
    }
   ],
   "source": [
    "for number in range(10, 0, -2):\n",
    "    print(number, end=' ')"
   ]
  },
  {
   "cell_type": "markdown",
   "id": "0eee6279-30b7-46ab-958a-aeeee9b1ce3b",
   "metadata": {},
   "source": [
    "break and continue Statements"
   ]
  },
  {
   "cell_type": "code",
   "execution_count": 68,
   "id": "02cde2bf-1175-45aa-8220-6226eb680ef3",
   "metadata": {},
   "outputs": [
    {
     "name": "stdout",
     "output_type": "stream",
     "text": [
      "0 1 2 3 4 5 6 7 8 9 "
     ]
    }
   ],
   "source": [
    "for number in range(100) :\n",
    "    if number == 10:\n",
    "        break\n",
    "    print (number, end=' ')"
   ]
  },
  {
   "cell_type": "code",
   "execution_count": 69,
   "id": "d54412b5-4813-46f1-87dc-e96a3ac62026",
   "metadata": {},
   "outputs": [
    {
     "name": "stdout",
     "output_type": "stream",
     "text": [
      "0 1 2 3 4 6 7 8 9 "
     ]
    }
   ],
   "source": [
    "for number in range(10) :\n",
    "    if number == 5:\n",
    "        continue\n",
    "    print (number, end=' ')"
   ]
  },
  {
   "cell_type": "markdown",
   "id": "c403dd37-ba69-423d-8335-3de056f20c81",
   "metadata": {},
   "source": [
    "Boolean Operators and, or and not"
   ]
  },
  {
   "cell_type": "code",
   "execution_count": 71,
   "id": "233e694d-1778-44bb-913e-6187b1fedfd8",
   "metadata": {},
   "outputs": [],
   "source": [
    "gender = 'Female'"
   ]
  },
  {
   "cell_type": "code",
   "execution_count": 72,
   "id": "88c8ad4e-4b42-4538-a747-88a800992a0f",
   "metadata": {},
   "outputs": [],
   "source": [
    "age = 70"
   ]
  },
  {
   "cell_type": "code",
   "execution_count": 73,
   "id": "454e11a3-f30d-43b0-b0cd-4fe269009da1",
   "metadata": {},
   "outputs": [
    {
     "name": "stdout",
     "output_type": "stream",
     "text": [
      "Senior Female\n"
     ]
    }
   ],
   "source": [
    "if gender == 'Female' and age >=65:\n",
    "    print('Senior Female')"
   ]
  },
  {
   "cell_type": "code",
   "execution_count": 74,
   "id": "582d6822-3bbd-45a2-aad6-8f52e96af187",
   "metadata": {},
   "outputs": [],
   "source": [
    "semester_average = 83"
   ]
  },
  {
   "cell_type": "code",
   "execution_count": 75,
   "id": "cd0f93a6-2693-4868-afab-44bf0fede5ea",
   "metadata": {},
   "outputs": [],
   "source": [
    "final_exam= 95"
   ]
  },
  {
   "cell_type": "code",
   "execution_count": 76,
   "id": "5d36c758-8585-4d24-9d28-d0d5c047d2f8",
   "metadata": {},
   "outputs": [
    {
     "name": "stdout",
     "output_type": "stream",
     "text": [
      "Student gets an A\n"
     ]
    }
   ],
   "source": [
    "if semester_average >= 90 or final_exam >=90:\n",
    "    print('Student gets an A')"
   ]
  },
  {
   "cell_type": "markdown",
   "id": "05a02320-31dd-4d81-b0f8-5f5f3824d1c3",
   "metadata": {},
   "source": [
    "Measures of Central Tendency—Mean, Median and Mode"
   ]
  },
  {
   "cell_type": "code",
   "execution_count": 77,
   "id": "5bd73767-e8c7-4bd0-ac2a-7672fe8cdb2a",
   "metadata": {},
   "outputs": [],
   "source": [
    "grades = [85, 93, 45, 89, 85]"
   ]
  },
  {
   "cell_type": "code",
   "execution_count": 78,
   "id": "773a978b-ece7-4ba8-bc26-82c253f3b5ad",
   "metadata": {},
   "outputs": [
    {
     "data": {
      "text/plain": [
       "79.4"
      ]
     },
     "execution_count": 78,
     "metadata": {},
     "output_type": "execute_result"
    }
   ],
   "source": [
    "sum(grades) / len(grades)"
   ]
  },
  {
   "cell_type": "code",
   "execution_count": 79,
   "id": "2cd3b961-61be-4226-837b-48bb6ebe9382",
   "metadata": {},
   "outputs": [],
   "source": [
    "import statistics"
   ]
  },
  {
   "cell_type": "code",
   "execution_count": 80,
   "id": "0112d303-f774-4e91-9a80-25dda37e5e47",
   "metadata": {},
   "outputs": [
    {
     "data": {
      "text/plain": [
       "79.4"
      ]
     },
     "execution_count": 80,
     "metadata": {},
     "output_type": "execute_result"
    }
   ],
   "source": [
    "statistics.mean(grades)"
   ]
  },
  {
   "cell_type": "code",
   "execution_count": 81,
   "id": "d68eac2b-921a-4285-be66-cd19cf57eb78",
   "metadata": {},
   "outputs": [
    {
     "data": {
      "text/plain": [
       "85"
      ]
     },
     "execution_count": 81,
     "metadata": {},
     "output_type": "execute_result"
    }
   ],
   "source": [
    "statistics.median(grades)"
   ]
  },
  {
   "cell_type": "code",
   "execution_count": 82,
   "id": "2999f6ad-1e07-49ec-81e4-420e1af902c1",
   "metadata": {},
   "outputs": [
    {
     "data": {
      "text/plain": [
       "85"
      ]
     },
     "execution_count": 82,
     "metadata": {},
     "output_type": "execute_result"
    }
   ],
   "source": [
    "statistics.mode(grades)"
   ]
  },
  {
   "cell_type": "code",
   "execution_count": 83,
   "id": "2ca596ca-fc94-47db-a757-91fab90cb69a",
   "metadata": {},
   "outputs": [
    {
     "data": {
      "text/plain": [
       "[45, 85, 85, 89, 93]"
      ]
     },
     "execution_count": 83,
     "metadata": {},
     "output_type": "execute_result"
    }
   ],
   "source": [
    "sorted(grades)"
   ]
  },
  {
   "cell_type": "code",
   "execution_count": 84,
   "id": "a02dbedc-68d1-44cf-bdcd-1f59e51dbccf",
   "metadata": {},
   "outputs": [],
   "source": [
    "grades = [47, 56, 23, 56, 76, 98, 54, 80]"
   ]
  },
  {
   "cell_type": "code",
   "execution_count": 85,
   "id": "8087063d-4edc-4aaa-b04f-aac3e5fc7e86",
   "metadata": {},
   "outputs": [
    {
     "data": {
      "text/plain": [
       "490"
      ]
     },
     "execution_count": 85,
     "metadata": {},
     "output_type": "execute_result"
    }
   ],
   "source": [
    "sum(grades) "
   ]
  },
  {
   "cell_type": "code",
   "execution_count": 86,
   "id": "67d85c97-2513-4ea1-a324-e26f4aac8067",
   "metadata": {},
   "outputs": [
    {
     "data": {
      "text/plain": [
       "8"
      ]
     },
     "execution_count": 86,
     "metadata": {},
     "output_type": "execute_result"
    }
   ],
   "source": [
    "len(grades)"
   ]
  },
  {
   "cell_type": "code",
   "execution_count": 87,
   "id": "e2cbd0ae-f6b7-41e8-a9dd-20e5be9bf9db",
   "metadata": {},
   "outputs": [
    {
     "data": {
      "text/plain": [
       "61.25"
      ]
     },
     "execution_count": 87,
     "metadata": {},
     "output_type": "execute_result"
    }
   ],
   "source": [
    "statistics.mean(grades)"
   ]
  },
  {
   "cell_type": "code",
   "execution_count": 88,
   "id": "8c5013b5-b0ea-4440-94df-3bb02033e398",
   "metadata": {},
   "outputs": [
    {
     "data": {
      "text/plain": [
       "56.0"
      ]
     },
     "execution_count": 88,
     "metadata": {},
     "output_type": "execute_result"
    }
   ],
   "source": [
    "statistics.median(grades)"
   ]
  },
  {
   "cell_type": "code",
   "execution_count": 89,
   "id": "b294d64d-f2e8-497a-8de1-8a494348ebf5",
   "metadata": {},
   "outputs": [
    {
     "data": {
      "text/plain": [
       "56"
      ]
     },
     "execution_count": 89,
     "metadata": {},
     "output_type": "execute_result"
    }
   ],
   "source": [
    "statistics.mode(grades)"
   ]
  }
 ],
 "metadata": {
  "kernelspec": {
   "display_name": "Python 3 (ipykernel)",
   "language": "python",
   "name": "python3"
  },
  "language_info": {
   "codemirror_mode": {
    "name": "ipython",
    "version": 3
   },
   "file_extension": ".py",
   "mimetype": "text/x-python",
   "name": "python",
   "nbconvert_exporter": "python",
   "pygments_lexer": "ipython3",
   "version": "3.9.12"
  }
 },
 "nbformat": 4,
 "nbformat_minor": 5
}
